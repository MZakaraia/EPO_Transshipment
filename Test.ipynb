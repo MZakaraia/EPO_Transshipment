{
 "cells": [
  {
   "cell_type": "code",
   "execution_count": null,
   "metadata": {},
   "outputs": [],
   "source": [
    "from Constrained_Functions import *\n",
    "from penguins_Algorithm_modified_3 import *\n",
    "from ParticleSwarm import *"
   ]
  },
  {
   "cell_type": "code",
   "execution_count": null,
   "metadata": {},
   "outputs": [],
   "source": [
    "import matplotlib.pyplot as plt"
   ]
  },
  {
   "cell_type": "code",
   "execution_count": null,
   "metadata": {},
   "outputs": [],
   "source": [
    "testProblems = pd.read_excel('TestFunctionsPaper.xlsx')"
   ]
  },
  {
   "cell_type": "code",
   "execution_count": null,
   "metadata": {},
   "outputs": [],
   "source": [
    "problem = testProblems.iloc[0, :]\n",
    "functionName, temp, lb, ub, num_dimensions = list(problem)\n",
    "num_particles, max_iterations, inertia_weight, personal_weight, global_weight= 200, 100, 0.3, 0.1, 0.1\n",
    "particle_swarm_optimization(num_particles, num_dimensions, max_iterations, inertia_weight, personal_weight, global_weight, functionName, lb, ub)[:2]"
   ]
  },
  {
   "cell_type": "code",
   "execution_count": null,
   "metadata": {},
   "outputs": [],
   "source": [
    "num_particlesPararm = [50, 100, 150]\n",
    "max_iterationsParam = [50, 100, 150]\n",
    "inertia_weightParam = [0.1, 0.5, 0.8]\n",
    "personal_weightParam = [0.1, 0.5, 0.8]\n",
    "global_weightParam = [0.1, 0.5, 0.8]"
   ]
  },
  {
   "cell_type": "code",
   "execution_count": 53,
   "metadata": {},
   "outputs": [],
   "source": [
    "FactorialDesing = pd.DataFrame([[i ,j , k, l, m] for i in num_particlesPararm for j in max_iterationsParam for k in inertia_weightParam\\\n",
    "     for l in personal_weightParam for m in global_weightParam ])"
   ]
  },
  {
   "cell_type": "code",
   "execution_count": 54,
   "metadata": {},
   "outputs": [],
   "source": [
    "FactorialDesing.columns = ['num_particles', 'max_iterations', 'inertia_weight', 'personal_weight', 'global_weight']"
   ]
  },
  {
   "cell_type": "code",
   "execution_count": 55,
   "metadata": {},
   "outputs": [
    {
     "data": {
      "text/html": [
       "<div>\n",
       "<style scoped>\n",
       "    .dataframe tbody tr th:only-of-type {\n",
       "        vertical-align: middle;\n",
       "    }\n",
       "\n",
       "    .dataframe tbody tr th {\n",
       "        vertical-align: top;\n",
       "    }\n",
       "\n",
       "    .dataframe thead th {\n",
       "        text-align: right;\n",
       "    }\n",
       "</style>\n",
       "<table border=\"1\" class=\"dataframe\">\n",
       "  <thead>\n",
       "    <tr style=\"text-align: right;\">\n",
       "      <th></th>\n",
       "      <th>num_particles</th>\n",
       "      <th>max_iterations</th>\n",
       "      <th>inertia_weight</th>\n",
       "      <th>personal_weight</th>\n",
       "      <th>global_weight</th>\n",
       "    </tr>\n",
       "  </thead>\n",
       "  <tbody>\n",
       "    <tr>\n",
       "      <th>0</th>\n",
       "      <td>50</td>\n",
       "      <td>50</td>\n",
       "      <td>0.1</td>\n",
       "      <td>0.1</td>\n",
       "      <td>0.1</td>\n",
       "    </tr>\n",
       "    <tr>\n",
       "      <th>1</th>\n",
       "      <td>50</td>\n",
       "      <td>50</td>\n",
       "      <td>0.1</td>\n",
       "      <td>0.1</td>\n",
       "      <td>0.5</td>\n",
       "    </tr>\n",
       "    <tr>\n",
       "      <th>2</th>\n",
       "      <td>50</td>\n",
       "      <td>50</td>\n",
       "      <td>0.1</td>\n",
       "      <td>0.1</td>\n",
       "      <td>0.8</td>\n",
       "    </tr>\n",
       "    <tr>\n",
       "      <th>3</th>\n",
       "      <td>50</td>\n",
       "      <td>50</td>\n",
       "      <td>0.1</td>\n",
       "      <td>0.5</td>\n",
       "      <td>0.1</td>\n",
       "    </tr>\n",
       "    <tr>\n",
       "      <th>4</th>\n",
       "      <td>50</td>\n",
       "      <td>50</td>\n",
       "      <td>0.1</td>\n",
       "      <td>0.5</td>\n",
       "      <td>0.5</td>\n",
       "    </tr>\n",
       "  </tbody>\n",
       "</table>\n",
       "</div>"
      ],
      "text/plain": [
       "   num_particles  max_iterations  inertia_weight  personal_weight  \\\n",
       "0             50              50             0.1              0.1   \n",
       "1             50              50             0.1              0.1   \n",
       "2             50              50             0.1              0.1   \n",
       "3             50              50             0.1              0.5   \n",
       "4             50              50             0.1              0.5   \n",
       "\n",
       "   global_weight  \n",
       "0            0.1  \n",
       "1            0.5  \n",
       "2            0.8  \n",
       "3            0.1  \n",
       "4            0.5  "
      ]
     },
     "execution_count": 55,
     "metadata": {},
     "output_type": "execute_result"
    }
   ],
   "source": [
    "FactorialDesing.head()"
   ]
  },
  {
   "cell_type": "code",
   "execution_count": 56,
   "metadata": {},
   "outputs": [],
   "source": [
    "num_particles, max_iterations, inertia_weight, personal_weight, global_weight = FactorialDesing.iloc[0, :]"
   ]
  },
  {
   "cell_type": "code",
   "execution_count": 61,
   "metadata": {},
   "outputs": [
    {
     "name": "stdout",
     "output_type": "stream",
     "text": [
      "num_particles\n",
      "max_iterations\n",
      "inertia_weight\n",
      "personal_weight\n",
      "global_weight\n"
     ]
    }
   ],
   "source": []
  },
  {
   "cell_type": "code",
   "execution_count": 65,
   "metadata": {},
   "outputs": [],
   "source": [
    "functionName, temp, lb, ub, num_dimensions = list(problem)\n",
    "results = []\n",
    "for i in range(FactorialDesing.shape[0]):\n",
    "     num_particles, max_iterations, inertia_weight, personal_weight, global_weight = FactorialDesing.iloc[i, :]\n",
    "     results.append([particle_swarm_optimization(int(num_particles), num_dimensions, int(max_iterations),\\\n",
    "          inertia_weight, personal_weight, global_weight, functionName, lb, ub)[0] for _ in range(10)])"
   ]
  },
  {
   "cell_type": "code",
   "execution_count": 68,
   "metadata": {},
   "outputs": [
    {
     "data": {
      "text/plain": [
       "(243, 5)"
      ]
     },
     "execution_count": 68,
     "metadata": {},
     "output_type": "execute_result"
    }
   ],
   "source": [
    "FactorialDesing.shape"
   ]
  },
  {
   "cell_type": "code",
   "execution_count": 80,
   "metadata": {},
   "outputs": [],
   "source": [
    "# FactorialDesing.append(pd.DataFrame(np.array(results)))\n",
    "FactResults =pd.concat([FactorialDesing, pd.DataFrame(np.array(results))], axis=1)"
   ]
  },
  {
   "cell_type": "code",
   "execution_count": 144,
   "metadata": {},
   "outputs": [],
   "source": [
    "i = 0\n",
    "DOEResluts = []\n",
    "for i in range(5):\n",
    "    if i < 2:\n",
    "        DOEResluts.append((FactResults[FactResults.iloc[:, i] == 50].mean(axis=1).mean(), FactResults[FactResults.iloc[:, i] == 100].mean(axis=1).mean()\\\n",
    "        ,FactResults[FactResults.iloc[:, i] == 150].mean(axis=1).mean()))\n",
    "    else:\n",
    "        DOEResluts.append((FactResults[FactResults.iloc[:, i] == 0.1].mean(axis=1).mean(), FactResults[FactResults.iloc[:, i] == 0.5].mean(axis=1).mean()\\\n",
    ",FactResults[FactResults.iloc[:, i] == 0.8].mean(axis=1).mean()))"
   ]
  },
  {
   "cell_type": "code",
   "execution_count": 143,
   "metadata": {},
   "outputs": [
    {
     "data": {
      "text/plain": [
       "[(16.831335332870594, 19.167669806183454, 21.935889959095608),\n",
       " (16.098418451221477, 19.30913248875584, 22.52734415817234),\n",
       " (17.625698858930242, 18.866252500079145, 21.442943739140265),\n",
       " (19.230483450063904, 19.29342068477344, 19.41099096331231),\n",
       " (17.123123270410208, 19.650142006462644, 21.161629821276804),\n",
       " (nan, nan, nan)]"
      ]
     },
     "execution_count": 143,
     "metadata": {},
     "output_type": "execute_result"
    }
   ],
   "source": [
    "DOEResluts"
   ]
  },
  {
   "cell_type": "code",
   "execution_count": 148,
   "metadata": {},
   "outputs": [
    {
     "data": {
      "text/plain": [
       "[<matplotlib.lines.Line2D at 0x196d7e07970>]"
      ]
     },
     "execution_count": 148,
     "metadata": {},
     "output_type": "execute_result"
    },
    {
     "data": {
      "image/png": "[encoded data removed]",
      "text/plain": [
       "<Figure size 1800x288 with 5 Axes>"
      ]
     },
     "metadata": {
      "needs_background": "light"
     },
     "output_type": "display_data"
    }
   ],
   "source": [
    "plt.figure(figsize=(25,4))\n",
    "plt.subplot(1, 5, 1)\n",
    "plt.plot(['50', '100', '150'], DOEResluts[0], '-o')\n",
    "plt.subplot(1, 5, 2)\n",
    "plt.plot(['50', '100', '150'], DOEResluts[1], '-o')\n",
    "plt.subplot(1, 5, 3)\n",
    "plt.plot(['0.1','0.5', '0.8'], DOEResluts[2], '-o')\n",
    "plt.subplot(1, 5, 4)\n",
    "plt.plot(['0.1','0.5', '0.8'], DOEResluts[3], '-o')\n",
    "plt.subplot(1, 5, 5)\n",
    "plt.plot(['0.1','0.5', '0.8'], DOEResluts[4], '-o')\n"
   ]
  },
  {
   "cell_type": "code",
   "execution_count": 139,
   "metadata": {},
   "outputs": [
    {
     "data": {
      "text/plain": [
       "(7.4531348070559265,\n",
       " array([-1.13509483, -0.68647549,  1.57559207,  1.41978936,  1.15465802,\n",
       "         0.03750996,  4.33040462, -1.91552071, -0.01367405, -1.08230035]))"
      ]
     },
     "execution_count": 139,
     "metadata": {},
     "output_type": "execute_result"
    }
   ],
   "source": [
    "particle_swarm_optimization(50, num_dimensions, 50, 0.1, 0.1, 0.1, functionName, lb, ub)[:2]"
   ]
  },
  {
   "cell_type": "code",
   "execution_count": 97,
   "metadata": {},
   "outputs": [
    {
     "data": {
      "text/plain": [
       "(17.625698858930242, 18.866252500079145, 21.442943739140265)"
      ]
     },
     "execution_count": 97,
     "metadata": {},
     "output_type": "execute_result"
    }
   ],
   "source": [
    "# personal_weightParam = [0.1, 0.5, 0.8]\n",
    "i = 2\n",
    "FactResults[FactResults.iloc[:, i] == 0.1].mean(axis=1).mean(), FactResults[FactResults.iloc[:, i] == 0.5].mean(axis=1).mean()\\\n",
    ",FactResults[FactResults.iloc[:, i] == 0.8].mean(axis=1).mean()"
   ]
  },
  {
   "cell_type": "code",
   "execution_count": null,
   "metadata": {},
   "outputs": [],
   "source": [
    "FactResults[FactResults.iloc[:, 0] == 50].mean(axis=1).mean(), FactResults[FactResults.iloc[:, 0] == 100].mean(axis=1).mean()\\\n",
    ",FactResults[FactResults.iloc[:, 0] == 150].mean(axis=1).mean()"
   ]
  },
  {
   "cell_type": "code",
   "execution_count": 67,
   "metadata": {},
   "outputs": [
    {
     "data": {
      "text/html": [
       "<div>\n",
       "<style scoped>\n",
       "    .dataframe tbody tr th:only-of-type {\n",
       "        vertical-align: middle;\n",
       "    }\n",
       "\n",
       "    .dataframe tbody tr th {\n",
       "        vertical-align: top;\n",
       "    }\n",
       "\n",
       "    .dataframe thead th {\n",
       "        text-align: right;\n",
       "    }\n",
       "</style>\n",
       "<table border=\"1\" class=\"dataframe\">\n",
       "  <thead>\n",
       "    <tr style=\"text-align: right;\">\n",
       "      <th></th>\n",
       "      <th>0</th>\n",
       "      <th>1</th>\n",
       "      <th>2</th>\n",
       "      <th>3</th>\n",
       "      <th>4</th>\n",
       "      <th>5</th>\n",
       "      <th>6</th>\n",
       "      <th>7</th>\n",
       "      <th>8</th>\n",
       "      <th>9</th>\n",
       "    </tr>\n",
       "  </thead>\n",
       "  <tbody>\n",
       "    <tr>\n",
       "      <th>0</th>\n",
       "      <td>7.991859</td>\n",
       "      <td>5.971486</td>\n",
       "      <td>6.238077</td>\n",
       "      <td>5.679784</td>\n",
       "      <td>6.727567</td>\n",
       "      <td>4.855471</td>\n",
       "      <td>5.863860</td>\n",
       "      <td>5.220197</td>\n",
       "      <td>6.261207</td>\n",
       "      <td>6.889145</td>\n",
       "    </tr>\n",
       "    <tr>\n",
       "      <th>1</th>\n",
       "      <td>3.817695</td>\n",
       "      <td>7.704074</td>\n",
       "      <td>5.634694</td>\n",
       "      <td>5.729224</td>\n",
       "      <td>8.418752</td>\n",
       "      <td>8.368451</td>\n",
       "      <td>8.700824</td>\n",
       "      <td>6.372697</td>\n",
       "      <td>5.338503</td>\n",
       "      <td>3.994451</td>\n",
       "    </tr>\n",
       "    <tr>\n",
       "      <th>2</th>\n",
       "      <td>14.470441</td>\n",
       "      <td>13.042711</td>\n",
       "      <td>11.550107</td>\n",
       "      <td>12.296283</td>\n",
       "      <td>12.274109</td>\n",
       "      <td>9.477423</td>\n",
       "      <td>10.988866</td>\n",
       "      <td>11.177750</td>\n",
       "      <td>13.977146</td>\n",
       "      <td>10.452767</td>\n",
       "    </tr>\n",
       "    <tr>\n",
       "      <th>3</th>\n",
       "      <td>6.026663</td>\n",
       "      <td>5.888761</td>\n",
       "      <td>6.628511</td>\n",
       "      <td>5.416696</td>\n",
       "      <td>5.774636</td>\n",
       "      <td>5.620541</td>\n",
       "      <td>6.213365</td>\n",
       "      <td>5.983441</td>\n",
       "      <td>7.405246</td>\n",
       "      <td>5.344588</td>\n",
       "    </tr>\n",
       "    <tr>\n",
       "      <th>4</th>\n",
       "      <td>7.362112</td>\n",
       "      <td>5.818422</td>\n",
       "      <td>5.811952</td>\n",
       "      <td>7.554400</td>\n",
       "      <td>7.882617</td>\n",
       "      <td>8.304217</td>\n",
       "      <td>10.613775</td>\n",
       "      <td>10.086542</td>\n",
       "      <td>8.888184</td>\n",
       "      <td>9.007054</td>\n",
       "    </tr>\n",
       "    <tr>\n",
       "      <th>...</th>\n",
       "      <td>...</td>\n",
       "      <td>...</td>\n",
       "      <td>...</td>\n",
       "      <td>...</td>\n",
       "      <td>...</td>\n",
       "      <td>...</td>\n",
       "      <td>...</td>\n",
       "      <td>...</td>\n",
       "      <td>...</td>\n",
       "      <td>...</td>\n",
       "    </tr>\n",
       "    <tr>\n",
       "      <th>238</th>\n",
       "      <td>14.654880</td>\n",
       "      <td>12.850579</td>\n",
       "      <td>14.025018</td>\n",
       "      <td>10.901478</td>\n",
       "      <td>10.453985</td>\n",
       "      <td>11.590935</td>\n",
       "      <td>11.484584</td>\n",
       "      <td>11.256649</td>\n",
       "      <td>12.564586</td>\n",
       "      <td>12.069303</td>\n",
       "    </tr>\n",
       "    <tr>\n",
       "      <th>239</th>\n",
       "      <td>14.285372</td>\n",
       "      <td>13.708967</td>\n",
       "      <td>13.186814</td>\n",
       "      <td>11.903962</td>\n",
       "      <td>11.707539</td>\n",
       "      <td>12.011862</td>\n",
       "      <td>15.088543</td>\n",
       "      <td>16.980495</td>\n",
       "      <td>11.226274</td>\n",
       "      <td>12.644890</td>\n",
       "    </tr>\n",
       "    <tr>\n",
       "      <th>240</th>\n",
       "      <td>10.331579</td>\n",
       "      <td>10.919477</td>\n",
       "      <td>10.058625</td>\n",
       "      <td>8.806250</td>\n",
       "      <td>7.308142</td>\n",
       "      <td>9.831833</td>\n",
       "      <td>11.450228</td>\n",
       "      <td>3.336357</td>\n",
       "      <td>8.533360</td>\n",
       "      <td>3.870080</td>\n",
       "    </tr>\n",
       "    <tr>\n",
       "      <th>241</th>\n",
       "      <td>12.445990</td>\n",
       "      <td>13.041154</td>\n",
       "      <td>10.512922</td>\n",
       "      <td>13.076575</td>\n",
       "      <td>13.692523</td>\n",
       "      <td>10.965633</td>\n",
       "      <td>12.361604</td>\n",
       "      <td>12.689219</td>\n",
       "      <td>12.869388</td>\n",
       "      <td>13.798359</td>\n",
       "    </tr>\n",
       "    <tr>\n",
       "      <th>242</th>\n",
       "      <td>13.676697</td>\n",
       "      <td>14.308059</td>\n",
       "      <td>16.078595</td>\n",
       "      <td>14.745513</td>\n",
       "      <td>15.185079</td>\n",
       "      <td>15.722913</td>\n",
       "      <td>14.478651</td>\n",
       "      <td>11.515860</td>\n",
       "      <td>12.755381</td>\n",
       "      <td>13.420562</td>\n",
       "    </tr>\n",
       "  </tbody>\n",
       "</table>\n",
       "<p>243 rows × 10 columns</p>\n",
       "</div>"
      ],
      "text/plain": [
       "             0          1          2          3          4          5  \\\n",
       "0     7.991859   5.971486   6.238077   5.679784   6.727567   4.855471   \n",
       "1     3.817695   7.704074   5.634694   5.729224   8.418752   8.368451   \n",
       "2    14.470441  13.042711  11.550107  12.296283  12.274109   9.477423   \n",
       "3     6.026663   5.888761   6.628511   5.416696   5.774636   5.620541   \n",
       "4     7.362112   5.818422   5.811952   7.554400   7.882617   8.304217   \n",
       "..         ...        ...        ...        ...        ...        ...   \n",
       "238  14.654880  12.850579  14.025018  10.901478  10.453985  11.590935   \n",
       "239  14.285372  13.708967  13.186814  11.903962  11.707539  12.011862   \n",
       "240  10.331579  10.919477  10.058625   8.806250   7.308142   9.831833   \n",
       "241  12.445990  13.041154  10.512922  13.076575  13.692523  10.965633   \n",
       "242  13.676697  14.308059  16.078595  14.745513  15.185079  15.722913   \n",
       "\n",
       "             6          7          8          9  \n",
       "0     5.863860   5.220197   6.261207   6.889145  \n",
       "1     8.700824   6.372697   5.338503   3.994451  \n",
       "2    10.988866  11.177750  13.977146  10.452767  \n",
       "3     6.213365   5.983441   7.405246   5.344588  \n",
       "4    10.613775  10.086542   8.888184   9.007054  \n",
       "..         ...        ...        ...        ...  \n",
       "238  11.484584  11.256649  12.564586  12.069303  \n",
       "239  15.088543  16.980495  11.226274  12.644890  \n",
       "240  11.450228   3.336357   8.533360   3.870080  \n",
       "241  12.361604  12.689219  12.869388  13.798359  \n",
       "242  14.478651  11.515860  12.755381  13.420562  \n",
       "\n",
       "[243 rows x 10 columns]"
      ]
     },
     "execution_count": 67,
     "metadata": {},
     "output_type": "execute_result"
    }
   ],
   "source": [
    "pd.DataFrame(np.array(results))"
   ]
  },
  {
   "cell_type": "code",
   "execution_count": null,
   "metadata": {},
   "outputs": [],
   "source": [
    "plt.figure(figsize=(15, 10))\n",
    "k = 1\n",
    "for i in range(0, 12):\n",
    "    FuncName = testProblems.iloc[i,1]\n",
    "    FuncPython = testProblems.iloc[i,0]\n",
    "    LB = testProblems.iloc[i,2]\n",
    "    UB = testProblems.iloc[i,3]\n",
    "    dim = testProblems.iloc[i,4]\n",
    "    EPOClassic = PCA_classic(LB, UB, dim, 100, 100, 1, FuncPython)[2]\n",
    "    EPO_LevyGaussian_Results = EPO_LevyGaussian(LB, UB, dim, 100, 100, 1, FuncPython)[2]\n",
    "    EPOIV_Results = EPOIV(LB, UB, dim, 100, 100, 1, FuncPython)[2]\n",
    "    plt.subplot(3, 4, k)\n",
    "    plt.plot(EPOClassic, label = 'Classical EPO')\n",
    "    plt.plot(EPO_LevyGaussian_Results, label = 'EPO LevyGaussian')\n",
    "    plt.plot(EPOIV_Results, label = 'EPOIV')\n",
    "    plt.legend() \n",
    "    plt.title(FuncName)\n",
    "    plt.xlabel('Iterations')\n",
    "    plt.ylabel('f(x)')\n",
    "    plt.tight_layout()\n",
    "    k += 1"
   ]
  },
  {
   "cell_type": "code",
   "execution_count": null,
   "metadata": {},
   "outputs": [],
   "source": [
    "plt.figure(figsize=(15, 10))\n",
    "k = 1\n",
    "for i in range(12,20):\n",
    "    FuncName = testProblems.iloc[i,0]\n",
    "    FuncPython = testProblems.iloc[i,1]\n",
    "    LB = testProblems.iloc[i,2]\n",
    "    UB = testProblems.iloc[i,3]\n",
    "    dim = testProblems.iloc[i,4]\n",
    "    EPOClassic = PCA_classic(LB, UB, dim, 100, 100, 1, FuncPython)[2]\n",
    "    EPO_LevyGaussian_Results = EPO_LevyGaussian(LB, UB, dim, 100, 100, 1, FuncPython)[2]\n",
    "    EPOIV_Results = EPOIV(LB, UB, dim, 100, 100, 1, FuncPython)[2]\n",
    "    plt.subplot(2, 4, k)\n",
    "    plt.plot(EPOClassic, label = 'Classical EPO')\n",
    "    plt.plot(EPO_LevyGaussian_Results, label = 'EPO LevyGaussian')\n",
    "    plt.plot(EPOIV_Results, label = 'EPOIV')\n",
    "    plt.legend() \n",
    "    plt.title(FuncName)\n",
    "    plt.xlabel('Iterations')\n",
    "    plt.ylabel('f(x)')\n",
    "    plt.tight_layout()\n",
    "    k += 1\n",
    "\n"
   ]
  },
  {
   "cell_type": "code",
   "execution_count": null,
   "metadata": {},
   "outputs": [],
   "source": [
    "(LB, UB, dim, 100, 100, 1, fn)"
   ]
  },
  {
   "cell_type": "code",
   "execution_count": null,
   "metadata": {},
   "outputs": [],
   "source": [
    "fn = 'spheref'\n",
    "LB, UB, dim = -10, 10, 10 \n",
    "EPO_LevyGaussian(LB, UB, dim, 100, 100, 1, fn)"
   ]
  },
  {
   "cell_type": "code",
   "execution_count": null,
   "metadata": {},
   "outputs": [],
   "source": [
    "PCA_classic(LB, UB, dim, 100, 100, 1, fn)"
   ]
  },
  {
   "cell_type": "code",
   "execution_count": null,
   "metadata": {},
   "outputs": [],
   "source": [
    "EPOIV(LB, UB, dim, 100, 100, 1, fn)[0:2]"
   ]
  },
  {
   "cell_type": "code",
   "execution_count": null,
   "metadata": {},
   "outputs": [],
   "source": []
  },
  {
   "cell_type": "code",
   "execution_count": null,
   "metadata": {},
   "outputs": [],
   "source": [
    "EPOWIV(LB, UB, dim, 20, 20, 1, fn)[0:2]"
   ]
  },
  {
   "cell_type": "code",
   "execution_count": null,
   "metadata": {},
   "outputs": [],
   "source": [
    "import pandas as pd"
   ]
  },
  {
   "cell_type": "code",
   "execution_count": null,
   "metadata": {},
   "outputs": [],
   "source": [
    "def LevyFligth(lastStep):\n",
    "    mu = np.random.normal(loc=0, scale=np.sqrt(1.5))\n",
    "    v = np.random.normal(loc=0, scale=np.sqrt(1.5))\n",
    "    step = mu / (np.abs(v) ** (1/1.5))\n",
    "    return (step + lastStep)"
   ]
  },
  {
   "cell_type": "code",
   "execution_count": null,
   "metadata": {},
   "outputs": [],
   "source": [
    "def GaussianMutation(sol):\n",
    "    gaussian_value = np.random.normal(loc=0, scale=np.sqrt(0.1))\n",
    "    return(sol + gaussian_value)"
   ]
  },
  {
   "cell_type": "code",
   "execution_count": null,
   "metadata": {},
   "outputs": [],
   "source": [
    "x = np.random.uniform(-5, 5, 5)"
   ]
  },
  {
   "cell_type": "code",
   "execution_count": null,
   "metadata": {},
   "outputs": [],
   "source": [
    "x, GaussianMutation(x)"
   ]
  },
  {
   "cell_type": "code",
   "execution_count": null,
   "metadata": {},
   "outputs": [],
   "source": [
    "LevyFligth(0)"
   ]
  },
  {
   "cell_type": "code",
   "execution_count": null,
   "metadata": {},
   "outputs": [],
   "source": [
    "ConstrainedFunctions = pd.read_csv('ConstrainedProblems.csv')"
   ]
  },
  {
   "cell_type": "code",
   "execution_count": null,
   "metadata": {},
   "outputs": [],
   "source": [
    "output = {}\n",
    "ComparativeResultsMeans = {'Function':[],'EPOWIV Mean':[], 'EPOIV Mean':[], 'EPOW Mean': [], 'EPO Classical Mean':[]}\n",
    "ComparativeResultsStd = {'EPOWIV Std':[], 'EPOIV Std':[], 'EPOW Std': [], 'EPO Classical Std':[]}\n",
    "for i  in range(ConstrainedFunctions.shape[0]):\n",
    "    fn = ConstrainedFunctions.iloc[i, 0]\n",
    "    FunctionName = ConstrainedFunctions.iloc[i, 1]\n",
    "    LB = ConstrainedFunctions.iloc[i, 2]\n",
    "    UB = ConstrainedFunctions.iloc[i, 3]\n",
    "    dim = ConstrainedFunctions.iloc[i, 4]\n",
    "    if FunctionName not in output:\n",
    "        output[FunctionName] = {}\n",
    "    output[FunctionName]['EPOWIV'] = [EPOWIV(LB, UB, dim, 50, 100, 1, fn)[0] for _ in range(30)]\n",
    "    output[FunctionName]['EPOIV'] = [PCA(LB, UB, dim, 50, 80, 1, fn)[0] for _ in range(30)]\n",
    "    output[FunctionName]['EPOW'] = [PCAWeighted(LB, UB, dim, 50, 50, 1, fn)[0] for _ in range(30)]\n",
    "    output[FunctionName]['EPO Classical'] = [PCA_classic(LB, UB, dim, 50, 50, 1, fn)[0] for _ in range(30)]\n",
    "    # ComparativeResultsMeans['Function'].append(FunctionName)"
   ]
  },
  {
   "cell_type": "code",
   "execution_count": null,
   "metadata": {},
   "outputs": [],
   "source": [
    "ComparativeResultsMeans = {'Function':[],'EPOWIV Mean':[], 'EPOIV Mean':[], 'EPOW Mean': [], 'EPO Classical Mean':[]}\n",
    "ComparativeResultsStd = {'EPOWIV Std':[], 'EPOIV Std':[], 'EPOW Std': [], 'EPO Classical Std':[]}"
   ]
  },
  {
   "cell_type": "code",
   "execution_count": null,
   "metadata": {},
   "outputs": [],
   "source": [
    "np.array(output[FunctionName]['EPOWIV']).mean()"
   ]
  },
  {
   "cell_type": "code",
   "execution_count": null,
   "metadata": {},
   "outputs": [],
   "source": [
    "ComparativeResultsMeans = {'Function':[],'EPOWIV Mean':[], 'EPOIV Mean':[], 'EPOW Mean': [], 'EPO Classical Mean':[]}\n",
    "ComparativeResultsStd = {'EPOWIV Std':[], 'EPOIV Std':[], 'EPOW Std': [], 'EPO Classical Std':[]}"
   ]
  },
  {
   "cell_type": "code",
   "execution_count": null,
   "metadata": {},
   "outputs": [],
   "source": [
    "keys = list(ComparativeResultsMeans.keys())\n",
    "keys0 = list(ComparativeResultsStd.keys())"
   ]
  },
  {
   "cell_type": "code",
   "execution_count": null,
   "metadata": {},
   "outputs": [],
   "source": [
    "for FunctionName in output:\n",
    "    ComparativeResultsMeans[keys[0]].append(FunctionName)\n",
    "    ComparativeResultsMeans[keys[1]].append(np.array(output[FunctionName]['EPOWIV']).mean())\n",
    "    ComparativeResultsMeans[keys[2]].append(np.array(output[FunctionName]['EPOIV']).mean())\n",
    "    ComparativeResultsMeans[keys[3]].append(np.array(output[FunctionName]['EPOW']).mean())\n",
    "    ComparativeResultsMeans[keys[4]].append(np.array(output[FunctionName]['EPO Classical']).mean())\n",
    "    \n",
    "    ComparativeResultsStd[keys0[0]].append(np.array(output[FunctionName]['EPOWIV']).std())\n",
    "    ComparativeResultsStd[keys0[1]].append(np.array(output[FunctionName]['EPOIV']).std())\n",
    "    ComparativeResultsStd[keys0[2]].append(np.array(output[FunctionName]['EPOW']).std())\n",
    "    ComparativeResultsStd[keys0[3]].append(np.array(output[FunctionName]['EPO Classical']).std())\n",
    "    "
   ]
  },
  {
   "cell_type": "code",
   "execution_count": null,
   "metadata": {},
   "outputs": [],
   "source": [
    "pd.concat([pd.DataFrame(ComparativeResultsMeans), pd.DataFrame(ComparativeResultsStd)], axis=1).to_csv('ConstrainedReults.csv', index = False)\n"
   ]
  },
  {
   "cell_type": "code",
   "execution_count": null,
   "metadata": {},
   "outputs": [],
   "source": [
    "import matplotlib.pyplot as plt"
   ]
  },
  {
   "cell_type": "code",
   "execution_count": null,
   "metadata": {},
   "outputs": [],
   "source": [
    "fig = plt.figure(figsize= (15, 15))\n",
    "labels = ['EPOWIV', 'EPOIV', 'EPOW', 'EPO Classical']\n",
    "j = 1\n",
    "for FunctionName in output:\n",
    "    ax = fig.add_subplot(3, 2, j)\n",
    "    plt.boxplot([output[FunctionName]['EPOWIV'], output[FunctionName]['EPOIV'], output[FunctionName]['EPOW']\\\n",
    "                ,output[FunctionName]['EPO Classical']], showfliers=False, labels=labels)\n",
    "    ax.set_title(FunctionName)\n",
    "    j +=1"
   ]
  },
  {
   "cell_type": "code",
   "execution_count": null,
   "metadata": {},
   "outputs": [],
   "source": []
  },
  {
   "cell_type": "code",
   "execution_count": null,
   "metadata": {},
   "outputs": [],
   "source": [
    "optimal = [0 , 0 , 106.76, -2.0239, -1.0316, -0.072] "
   ]
  },
  {
   "cell_type": "code",
   "execution_count": null,
   "metadata": {},
   "outputs": [],
   "source": []
  },
  {
   "cell_type": "code",
   "execution_count": null,
   "metadata": {},
   "outputs": [],
   "source": [
    "labels = ['EPOWIV', 'EPOIV', 'EPOW', 'EPO Classical']"
   ]
  },
  {
   "cell_type": "code",
   "execution_count": null,
   "metadata": {},
   "outputs": [],
   "source": [
    "fig.add_subplot(2, 3, 1)\n",
    "plt.boxplot([output[FunctionName]['EPOWIV'], output[FunctionName]['EPOIV'], output[FunctionName]['EPOW']\\\n",
    "            ,output[FunctionName]['EPO Classical']], showfliers=False, labels=labels)"
   ]
  },
  {
   "cell_type": "code",
   "execution_count": null,
   "metadata": {},
   "outputs": [],
   "source": [
    "output.keys()"
   ]
  },
  {
   "cell_type": "code",
   "execution_count": null,
   "metadata": {},
   "outputs": [],
   "source": [
    "output['Rosenbrock function constrained with a cubic and a line']['EPOIV']"
   ]
  },
  {
   "cell_type": "code",
   "execution_count": null,
   "metadata": {},
   "outputs": [],
   "source": [
    "EPOWIV(-8192, 8192, 9, 50, 50, 1, 1)"
   ]
  },
  {
   "cell_type": "code",
   "execution_count": null,
   "metadata": {},
   "outputs": [],
   "source": [
    "EPOWIV(-2.25, 2.25, 2, 100, 300, 1, 'Townsend')"
   ]
  },
  {
   "cell_type": "code",
   "execution_count": null,
   "metadata": {},
   "outputs": [],
   "source": [
    "PCA(-8192, 8192, 9, 100, 500, 1, 1)"
   ]
  },
  {
   "cell_type": "code",
   "execution_count": null,
   "metadata": {},
   "outputs": [],
   "source": [
    "particle_swarm_optimization(100, 2, 300, 0.3, 0.6, 0.9, 'ACKLEY', -10, 0)"
   ]
  },
  {
   "cell_type": "code",
   "execution_count": null,
   "metadata": {},
   "outputs": [],
   "source": [
    "PCAWeighted(-8192, 8192, 9, 100, 1000, 1, 1)"
   ]
  },
  {
   "cell_type": "code",
   "execution_count": null,
   "metadata": {},
   "outputs": [],
   "source": [
    "PCA_classic(-8192, 8192, 9, 100, 100, 1, 1)"
   ]
  },
  {
   "cell_type": "code",
   "execution_count": null,
   "metadata": {},
   "outputs": [],
   "source": [
    "import numpy as np"
   ]
  },
  {
   "cell_type": "code",
   "execution_count": null,
   "metadata": {},
   "outputs": [],
   "source": [
    "import numpy as np\n",
    "import matplotlib.pyplot as plt\n",
    "\n",
    "def RosenbrockConstrained1(x):\n",
    "    if ((x[0] - 1)**3 - x[1] + 1) <= 0 and (x[0] + x[1] - 2) <= 0:\n",
    "        return (1 - x[0])**2 + 100 * (x[1] - x[0]**2)**2\n",
    "    else:\n",
    "        return float('Inf')\n",
    "\n",
    "# Define the range of x and y values\n",
    "x_range = np.linspace(-2, 2, 400)\n",
    "y_range = np.linspace(-2, 2, 400)\n",
    "X, Y = np.meshgrid(x_range, y_range)\n",
    "Z = np.zeros_like(X)\n",
    "\n",
    "# Calculate the function values\n",
    "for i in range(Z.shape[0]):\n",
    "    for j in range(Z.shape[1]):\n",
    "        Z[i, j] = RosenbrockConstrained1([X[i, j], Y[i, j]])\n",
    "\n",
    "# Create the contour plot\n",
    "plt.contourf(X, Y, Z, levels=50, cmap='viridis')\n",
    "plt.colorbar(label='Function Value')\n",
    "plt.xlabel('x')\n",
    "plt.ylabel('y')\n",
    "plt.title('Contour Plot of RosenbrockConstrained1')\n",
    "plt.show()\n"
   ]
  },
  {
   "cell_type": "code",
   "execution_count": null,
   "metadata": {},
   "outputs": [],
   "source": [
    "from FunctionCall import *"
   ]
  },
  {
   "cell_type": "code",
   "execution_count": null,
   "metadata": {},
   "outputs": [],
   "source": [
    "from penguins_Algorithm_modified_3 import *\n",
    "from ParticleSwarm import *"
   ]
  },
  {
   "cell_type": "code",
   "execution_count": null,
   "metadata": {},
   "outputs": [],
   "source": [
    "testFunctions = pd.read_csv('ConstrainedProblems.csv')"
   ]
  },
  {
   "cell_type": "code",
   "execution_count": null,
   "metadata": {},
   "outputs": [],
   "source": [
    "testFunctions.iloc[0,0]"
   ]
  },
  {
   "cell_type": "code",
   "execution_count": null,
   "metadata": {},
   "outputs": [],
   "source": [
    "MeanResult = {'Function':[],'MEPO Mean':[], 'EPOW Mean':[], 'EPO Classical Mean':[], 'PSO Mean':[]\\\n",
    "              ,'MEPO Std':[], 'EPOW Std':[], 'EPO Classical Std':[], 'PSO Std':[]}\n",
    "for i in range(testFunctions.shape[0]):\n",
    "    FunctionName = testFunctions.iloc[i,0]\n",
    "    dim = testFunctions.iloc[i, 4]\n",
    "    MeanResult['Function'].append(FunctionName)\n",
    "    LB = float(testFunctions.iloc[i, 2])\n",
    "    UB = float(testFunctions.iloc[i, 3])\n",
    "    result = np.array([PCA(LB, UB, dim, 100, 100, 1, FunctionName)[0] for _ in range(10)])\n",
    "    MeanResult['MEPO Mean'].append(result.mean())\n",
    "    MeanResult['MEPO Std'].append(result.std())\n",
    "    result = np.array([PCAWeighted(LB, UB, dim, 100, 100, 1, FunctionName)[0] for _ in range(10)])\n",
    "    MeanResult['EPOW Mean'].append(result.mean())\n",
    "    MeanResult['EPOW Std'].append(result.std())\n",
    "    result = np.array([PCA_classic(LB, UB, dim, 100, 100, 1, FunctionName)[0] for _ in range(10)])\n",
    "    MeanResult['EPO Classical Mean'].append(result.mean())\n",
    "    MeanResult['EPO Classical Std'].append(result.std())\n",
    "    result = np.array([particle_swarm_optimization(100, dim, 100, 0.3, 0.7, 0.2, FunctionName, LB, UB)[1]\\\n",
    "                        for _ in range(10)])\n",
    "    MeanResult['PSO Mean'].append(result.mean())\n",
    "    MeanResult['PSO Std'].append(result.std())    "
   ]
  },
  {
   "cell_type": "code",
   "execution_count": null,
   "metadata": {},
   "outputs": [],
   "source": [
    "MeanResult['EPOW Std'] = MeanResult['EPOW Std'][0:31]"
   ]
  },
  {
   "cell_type": "code",
   "execution_count": null,
   "metadata": {},
   "outputs": [],
   "source": [
    "pd.DataFrame(MeanResult).to_csv('Results 31.csv', index = False)"
   ]
  },
  {
   "cell_type": "code",
   "execution_count": null,
   "metadata": {},
   "outputs": [],
   "source": [
    "from scipy.stats import wilcoxon\n",
    "\n",
    "# Sample data\n",
    "data1 = [6, 8, 14, 16, 18]\n",
    "data2 = [6, 9, 14, 16, 18]\n",
    "\n",
    "# Perform the Wilcoxon Signed-Rank Test\n",
    "statistic, p_value = wilcoxon(data1, data2)\n",
    "print(\"Wilcoxon statistic:\", statistic)\n",
    "print(\"p-value:\", p_value)"
   ]
  },
  {
   "cell_type": "code",
   "execution_count": null,
   "metadata": {},
   "outputs": [],
   "source": [
    "from cec2019comp100digit import cec2019comp100digit"
   ]
  },
  {
   "cell_type": "code",
   "execution_count": null,
   "metadata": {},
   "outputs": [],
   "source": []
  },
  {
   "cell_type": "code",
   "execution_count": null,
   "metadata": {},
   "outputs": [],
   "source": [
    "bench = cec2019comp100digit\n",
    "bench.init(3, 10) # Init function 3 with dimension 10"
   ]
  },
  {
   "cell_type": "code",
   "execution_count": null,
   "metadata": {},
   "outputs": [],
   "source": [
    "bench.eval(np.random.uniform(-5, 5, 10))"
   ]
  },
  {
   "cell_type": "code",
   "execution_count": null,
   "metadata": {},
   "outputs": [],
   "source": []
  }
 ],
 "metadata": {
  "kernelspec": {
   "display_name": "base",
   "language": "python",
   "name": "python3"
  },
  "language_info": {
   "codemirror_mode": {
    "name": "ipython",
    "version": 3
   },
   "file_extension": ".py",
   "mimetype": "text/x-python",
   "name": "python",
   "nbconvert_exporter": "python",
   "pygments_lexer": "ipython3",
   "version": "3.9.6"
  },
  "orig_nbformat": 4
 },
 "nbformat": 4,
 "nbformat_minor": 2
}
