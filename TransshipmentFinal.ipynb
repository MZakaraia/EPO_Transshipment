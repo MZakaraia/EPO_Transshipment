{
 "cells": [
  {
   "cell_type": "code",
   "execution_count": 63,
   "metadata": {},
   "outputs": [],
   "source": [
    "from Transshipment import *"
   ]
  },
  {
   "cell_type": "code",
   "execution_count": 62,
   "metadata": {},
   "outputs": [
    {
     "data": {
      "text/plain": [
       "([84.0, 85.0, 92.0],\n",
       " [41.0, 92.0, 39.0],\n",
       " array([[58, 65, 47, 48, 63],\n",
       "        [40, 59, 59, 44, 64],\n",
       "        [68, 55, 50, 45, 59],\n",
       "        [45, 49, 63, 61, 66],\n",
       "        [51, 55, 69, 54, 57]]),\n",
       " array([[17,  8, 14,  8, 17],\n",
       "        [10, 19, 11, 15, 19],\n",
       "        [11,  8, 13, 10,  8],\n",
       "        [14,  9, 16, 15,  5],\n",
       "        [ 6,  8,  7,  9,  5]]))"
      ]
     },
     "execution_count": 62,
     "metadata": {},
     "output_type": "execute_result"
    }
   ],
   "source": [
    "get_problem('problems0', '3X3X2')"
   ]
  },
  {
   "cell_type": "code",
   "execution_count": 60,
   "metadata": {},
   "outputs": [],
   "source": [
    "folders = [i for i in os.listdir() if 'X'in i]"
   ]
  },
  {
   "cell_type": "code",
   "execution_count": 57,
   "metadata": {},
   "outputs": [],
   "source": [
    "Supplies, Demands, CostMatrix, Fixed_costs_matrix = get_problem('problems0', '3X3X2')"
   ]
  },
  {
   "cell_type": "code",
   "execution_count": 66,
   "metadata": {},
   "outputs": [],
   "source": [
    "solution, indexOrderedProduct, Supplies, Demands, CostMatrix, Fixed_costs_matrix = ConfigureProblem(Supplies, Demands, CostMatrix, Fixed_costs_matrix)"
   ]
  },
  {
   "cell_type": "code",
   "execution_count": 67,
   "metadata": {},
   "outputs": [],
   "source": [
    "output = PCA(0, 1, len(indexOrderedProduct), 100, 100, 1, indexOrderedProduct, solution, CostMatrix, Fixed_costs_matrix, Supplies, Demands)"
   ]
  },
  {
   "cell_type": "code",
   "execution_count": 68,
   "metadata": {},
   "outputs": [
    {
     "data": {
      "text/plain": [
       "(41719.0,\n",
       " array([0.19003015, 0.84437687, 0.85326365, 0.0525446 , 0.4446998 ,\n",
       "        0.52075898, 0.32715993, 0.53041534, 0.08298934, 0.291172  ,\n",
       "        0.48826713, 0.53244901, 0.32144328, 0.01235657, 0.68340324,\n",
       "        0.49377765, 0.72482675, 0.13887959, 0.73408724, 0.85586254,\n",
       "        0.27367721, 0.81290174, 0.27606839, 0.68010622, 0.21925863,\n",
       "        0.01721526, 0.78612677, 0.7605037 , 0.14458973, 0.56190132]),\n",
       " array([[  0.,   0.,  39.,   0.,  45.,   0.],\n",
       "        [  0.,   0.,   0.,   0.,  85.,   0.],\n",
       "        [  0.,   0.,   0.,   0.,  92.,   0.],\n",
       "        [ 41.,  92.,   0.,  89.,   0.,  39.],\n",
       "        [  0.,   0.,   0.,   0.,  39., 222.]]),\n",
       " array([ 0,  1,  2,  3,  4,  5,  6,  7,  8,  9, 10, 11, 12, 13, 14, 15, 16,\n",
       "        17, 18, 19, 20, 21, 22, 23, 24, 25, 26, 27, 28, 29, 30, 31, 32, 33,\n",
       "        34, 35, 36, 37, 38, 39, 40, 41, 42, 43, 44, 45, 46, 47, 48, 49, 50,\n",
       "        51, 52, 53, 54, 55, 56, 57, 58, 59, 60, 61, 62, 63, 64, 65, 66, 67,\n",
       "        68, 69, 70, 71, 72, 73, 74, 75, 76, 77, 78, 79, 80, 81, 82, 83, 84,\n",
       "        85, 86, 87, 88, 89, 90, 91, 92, 93, 94, 95, 96, 97, 98, 99]),\n",
       " array([42125., 42125., 42125., 42125., 42125., 42125., 42125., 42125.,\n",
       "        42125., 41797., 41797., 41797., 41797., 41797., 41797., 41797.,\n",
       "        41797., 41797., 41797., 41797., 41797., 41797., 41797., 41797.,\n",
       "        41797., 41797., 41797., 41797., 41797., 41797., 41797., 41797.,\n",
       "        41797., 41797., 41797., 41797., 41797., 41797., 41797., 41797.,\n",
       "        41797., 41797., 41719., 41719., 41719., 41719., 41719., 41719.,\n",
       "        41719., 41719., 41719., 41719., 41719., 41719., 41719., 41719.,\n",
       "        41719., 41719., 41719., 41719., 41719., 41719., 41719., 41719.,\n",
       "        41719., 41719., 41719., 41719., 41719., 41719., 41719., 41719.,\n",
       "        41719., 41719., 41719., 41719., 41719., 41719., 41719., 41719.,\n",
       "        41719., 41719., 41719., 41719., 41719., 41719., 41719., 41719.,\n",
       "        41719., 41719., 41719., 41719., 41719., 41719., 41719., 41719.,\n",
       "        41719., 41719., 41719., 41719.]))"
      ]
     },
     "execution_count": 68,
     "metadata": {},
     "output_type": "execute_result"
    }
   ],
   "source": [
    "output"
   ]
  },
  {
   "cell_type": "code",
   "execution_count": 8,
   "metadata": {},
   "outputs": [],
   "source": [
    "import matplotlib.pyplot as plt"
   ]
  },
  {
   "cell_type": "code",
   "execution_count": 8,
   "metadata": {},
   "outputs": [
    {
     "data": {
      "text/plain": [
       "[<matplotlib.lines.Line2D at 0x117eb18b0>]"
      ]
     },
     "execution_count": 8,
     "metadata": {},
     "output_type": "execute_result"
    },
    {
     "data": {
      "image/png": "[encoded data removed]",
      "text/plain": [
       "<Figure size 640x480 with 1 Axes>"
      ]
     },
     "metadata": {},
     "output_type": "display_data"
    }
   ],
   "source": [
    "plt.plot(output[-1])"
   ]
  },
  {
   "cell_type": "code",
   "execution_count": 82,
   "metadata": {},
   "outputs": [],
   "source": [
    "import numpy as np\n",
    "from FunctionCall import *\n",
    "\n",
    "class Particle:\n",
    "    def __init__(self, num_dimensions, lb, ub):\n",
    "        self.position = np.array([np.random.uniform(0, 1) for _ in range(num_dimensions)])\n",
    "        self.velocity = np.array([np.random.uniform(-1, 1) for _ in range(num_dimensions)])\n",
    "        self.best_position = self.position.copy()\n",
    "        self.best_score = float('inf')\n",
    "\n",
    "\n",
    "\n",
    "def update_velocity(particle, global_best_position, inertia_weight, personal_weight, global_weight):\n",
    "    particle.velocity = inertia_weight * particle.velocity + personal_weight * (particle.best_position - particle.position)\\\n",
    "    + global_weight * (global_best_position - particle.position)\n",
    "\n",
    "def update_position(particle):\n",
    "    particle.position += np.random.uniform() * particle.velocity\n",
    "\n",
    "def particle_swarm_optimization(num_particles, max_iterations, inertia_weight, personal_weight, global_weight, lb, ub,\\\n",
    "    indexOrderedProduct, solution, CostMatrix, Fixed_costs_matrix, Supplies, Demands):\n",
    "    \n",
    "    particles = [Particle(len(indexOrderedProduct), lb, ub) for _ in range(num_particles)]\n",
    "    global_best_position = particles[0].best_position\n",
    "    global_best_score = particles[0].best_score\n",
    "    convergenceVector = np.array([global_best_score])\n",
    "    # func1 = generateSolution(particles[0], indexOrderedProduct, solution, CostMatrix, Fixed_costs_matrix, Supplies, Demands)[0]\n",
    "    sol = generateSolution(particles[0].position.copy(), indexOrderedProduct, solution, CostMatrix, Fixed_costs_matrix, Supplies, Demands)\n",
    "    global_best_score = sol[1]\n",
    "    convergenceVector = np.array([global_best_score])\n",
    "    bestSol = sol[1].copy()\n",
    "    \n",
    "    for _ in range(max_iterations):\n",
    "        for particle in particles:\n",
    "            sol = generateSolution(particle.position.copy(), indexOrderedProduct, solution, CostMatrix, Fixed_costs_matrix, Supplies, Demands)\n",
    "            score = sol[1]            \n",
    "            if score < particle.best_score:\n",
    "                particle.best_position = particle.position.copy()\n",
    "                particle.best_score = score\n",
    "\n",
    "            if score < global_best_score:\n",
    "                global_best_position = particle.position.copy()\n",
    "                global_best_score = score\n",
    "\n",
    "        for particle in particles:\n",
    "            update_velocity(particle, global_best_position, inertia_weight, personal_weight, global_weight)\n",
    "            update_position(particle)\n",
    "        convergenceVector = np.append(convergenceVector, global_best_score)\n",
    "\n",
    "    return global_best_score, np.array(global_best_position), convergenceVector"
   ]
  },
  {
   "cell_type": "code",
   "execution_count": 83,
   "metadata": {},
   "outputs": [],
   "source": [
    "PSO_results = particle_swarm_optimization(50, 50, 0.1, 0.1, 0.1, 0, 1,\\\n",
    "    indexOrderedProduct, solution, CostMatrix, Fixed_costs_matrix, Supplies, Demands)"
   ]
  },
  {
   "cell_type": "code",
   "execution_count": 84,
   "metadata": {},
   "outputs": [
    {
     "data": {
      "text/plain": [
       "(41797.0,\n",
       " array([0.66730098, 0.29685565, 0.48288554, 0.23823347, 0.60652553,\n",
       "        0.41900892, 0.13437642, 0.47390512, 0.13624983, 0.31524805,\n",
       "        0.71533057, 0.65769199, 0.42145915, 0.76075973, 0.34024669,\n",
       "        0.60844615, 0.91202856, 0.50946584, 0.67975655, 0.42360916,\n",
       "        0.38419436, 0.69758314, 0.13952597, 0.22059375, 0.63062464,\n",
       "        0.88845598, 0.71598585, 0.54891752, 0.23653531, 0.94450602]),\n",
       " array([45120., 43085., 42775., 42775., 42775., 42775., 42775., 42775.,\n",
       "        42775., 42775., 42775., 42775., 42775., 41797., 41797., 41797.,\n",
       "        41797., 41797., 41797., 41797., 41797., 41797., 41797., 41797.,\n",
       "        41797., 41797., 41797., 41797., 41797., 41797., 41797., 41797.,\n",
       "        41797., 41797., 41797., 41797., 41797., 41797., 41797., 41797.,\n",
       "        41797., 41797., 41797., 41797., 41797., 41797., 41797., 41797.,\n",
       "        41797., 41797., 41797.]))"
      ]
     },
     "execution_count": 84,
     "metadata": {},
     "output_type": "execute_result"
    }
   ],
   "source": [
    "PSO_results"
   ]
  },
  {
   "cell_type": "code",
   "execution_count": 14,
   "metadata": {},
   "outputs": [
    {
     "data": {
      "text/plain": [
       "[<matplotlib.lines.Line2D at 0x11e468f50>]"
      ]
     },
     "execution_count": 14,
     "metadata": {},
     "output_type": "execute_result"
    },
    {
     "data": {
      "image/png": "[encoded data removed]",
      "text/plain": [
       "<Figure size 640x480 with 1 Axes>"
      ]
     },
     "metadata": {},
     "output_type": "display_data"
    }
   ],
   "source": [
    "plt.plot(PSO_results[2])\n",
    "plt.plot(output[-1])"
   ]
  },
  {
   "cell_type": "code",
   "execution_count": 9,
   "metadata": {},
   "outputs": [],
   "source": [
    "import pandas as pd"
   ]
  },
  {
   "cell_type": "code",
   "execution_count": 51,
   "metadata": {},
   "outputs": [],
   "source": [
    "OA_EPO = pd.read_csv('DOE_Rep.csv').iloc[:, 4:-3]\n",
    "OA = pd.read_csv('DOE_Rep.csv')"
   ]
  },
  {
   "cell_type": "code",
   "execution_count": 52,
   "metadata": {},
   "outputs": [],
   "source": [
    "MaxItrParam = [20, 50, 70, 100]\n",
    "PopsizeParam = [20, 50, 70, 100]\n",
    "RediusParam = [-1, 0, 1, 2]\n"
   ]
  },
  {
   "cell_type": "code",
   "execution_count": 53,
   "metadata": {},
   "outputs": [],
   "source": [
    "OA_EPO.iloc[:, 0] = [MaxItrParam[i-1] for i in OA_EPO.iloc[:, 0]]\n",
    "OA_EPO.iloc[:, 1] = [PopsizeParam[i-1] for i in OA_EPO.iloc[:, 1]]\n",
    "OA_EPO.iloc[:, 2] = [RediusParam[i-1] for i in OA_EPO.iloc[:, 2]]"
   ]
  },
  {
   "cell_type": "code",
   "execution_count": 69,
   "metadata": {},
   "outputs": [],
   "source": [
    "Response = []\n",
    "for i in range(OA_EPO.shape[0]):\n",
    "    MaxItr, Popsize, R = OA_EPO.iloc[i, :]\n",
    "    Response.append(PCA(0, 1, len(indexOrderedProduct), 100, 100, 1, indexOrderedProduct, \\\n",
    "        solution, CostMatrix, Fixed_costs_matrix, Supplies, Demands)[0])"
   ]
  },
  {
   "cell_type": "code",
   "execution_count": 71,
   "metadata": {},
   "outputs": [
    {
     "data": {
      "text/plain": [
       "0      1400\n",
       "1      1400\n",
       "2      4900\n",
       "3      5000\n",
       "4      3500\n",
       "      ...  \n",
       "75     2500\n",
       "76     3500\n",
       "77    10000\n",
       "78    10000\n",
       "79     7000\n",
       "Length: 80, dtype: int64"
      ]
     },
     "execution_count": 71,
     "metadata": {},
     "output_type": "execute_result"
    }
   ],
   "source": [
    "OA_EPO.iloc[:,0]*OA_EPO.iloc[:,1]"
   ]
  },
  {
   "cell_type": "code",
   "execution_count": 101,
   "metadata": {},
   "outputs": [],
   "source": [
    "FinalResponseEPO = (Response + OA_EPO.iloc[:,0]*\\\n",
    "    OA_EPO.iloc[:,1])/np.array((Response + OA_EPO.iloc[:,0]*OA_EPO.iloc[:,1])).sum()"
   ]
  },
  {
   "cell_type": "code",
   "execution_count": 78,
   "metadata": {},
   "outputs": [],
   "source": [
    "OA_PSO = pd.read_csv('DOE_Rep.csv').iloc[:, 4:-1]"
   ]
  },
  {
   "cell_type": "code",
   "execution_count": 91,
   "metadata": {},
   "outputs": [],
   "source": [
    "num_particles = [20, 50, 70, 100]\n",
    "max_iterations = [20, 50, 70, 100]\n",
    "inertia_weight = [0.1, 0.3, 0.5, 0.6]\n",
    "personal_weight = [0.1, 0.3, 0.5, 0.6]\n",
    "global_weight = [0.1, 0.3, 0.5, 0.6]"
   ]
  },
  {
   "cell_type": "code",
   "execution_count": 93,
   "metadata": {},
   "outputs": [
    {
     "data": {
      "text/plain": [
       "20"
      ]
     },
     "execution_count": 93,
     "metadata": {},
     "output_type": "execute_result"
    }
   ],
   "source": [
    "num_particles[0]"
   ]
  },
  {
   "cell_type": "code",
   "execution_count": 94,
   "metadata": {},
   "outputs": [
    {
     "name": "stderr",
     "output_type": "stream",
     "text": [
      "/var/folders/yf/72lbbhdn3j3crwb44hs0zmmh0000gp/T/ipykernel_856/3106942545.py:3: FutureWarning: Setting an item of incompatible dtype is deprecated and will raise in a future error of pandas. Value '[0.5, 0.5, 0.1, 0.5, 0.6, 0.3, 0.5, 0.1, 0.5, 0.5, 0.5, 0.5, 0.6, 0.6, 0.1, 0.5, 0.3, 0.3, 0.3, 0.6, 0.3, 0.6, 0.5, 0.3, 0.5, 0.3, 0.3, 0.5, 0.5, 0.1, 0.3, 0.5, 0.5, 0.6, 0.5, 0.3, 0.1, 0.6, 0.1, 0.6, 0.1, 0.3, 0.1, 0.5, 0.6, 0.3, 0.1, 0.6, 0.5, 0.1, 0.1, 0.6, 0.1, 0.1, 0.6, 0.3, 0.3, 0.6, 0.3, 0.6, 0.6, 0.3, 0.6, 0.3, 0.6, 0.6, 0.3, 0.3, 0.1, 0.1, 0.1, 0.5, 0.5, 0.1, 0.6, 0.1, 0.6, 0.1, 0.1, 0.3]' has dtype incompatible with int64, please explicitly cast to a compatible dtype first.\n",
      "  OA_PSO.iloc[:, 2] = [inertia_weight[i-1] for i in OA_PSO.iloc[:, 2]]\n",
      "/var/folders/yf/72lbbhdn3j3crwb44hs0zmmh0000gp/T/ipykernel_856/3106942545.py:4: FutureWarning: Setting an item of incompatible dtype is deprecated and will raise in a future error of pandas. Value '[0.5, 0.5, 0.3, 0.1, 0.5, 0.5, 0.6, 0.5, 0.3, 0.5, 0.6, 0.3, 0.3, 0.3, 0.3, 0.3, 0.1, 0.3, 0.1, 0.5, 0.3, 0.3, 0.5, 0.3, 0.1, 0.5, 0.6, 0.1, 0.6, 0.5, 0.6, 0.3, 0.6, 0.1, 0.6, 0.1, 0.1, 0.3, 0.1, 0.6, 0.3, 0.5, 0.6, 0.1, 0.1, 0.1, 0.6, 0.6, 0.5, 0.1, 0.3, 0.3, 0.1, 0.6, 0.1, 0.5, 0.5, 0.5, 0.6, 0.6, 0.5, 0.3, 0.6, 0.1, 0.6, 0.5, 0.6, 0.3, 0.1, 0.3, 0.5, 0.1, 0.3, 0.6, 0.1, 0.6, 0.1, 0.5, 0.5, 0.6]' has dtype incompatible with int64, please explicitly cast to a compatible dtype first.\n",
      "  OA_PSO.iloc[:, 3] = [inertia_weight[i-1] for i in OA_PSO.iloc[:, 3]]\n",
      "/var/folders/yf/72lbbhdn3j3crwb44hs0zmmh0000gp/T/ipykernel_856/3106942545.py:5: FutureWarning: Setting an item of incompatible dtype is deprecated and will raise in a future error of pandas. Value '[0.5, 0.5, 0.6, 0.6, 0.1, 0.6, 0.3, 0.3, 0.1, 0.5, 0.3, 0.1, 0.5, 0.5, 0.6, 0.1, 0.5, 0.3, 0.5, 0.1, 0.3, 0.5, 0.5, 0.3, 0.6, 0.6, 0.1, 0.6, 0.3, 0.3, 0.1, 0.1, 0.3, 0.3, 0.3, 0.5, 0.1, 0.5, 0.1, 0.6, 0.6, 0.6, 0.5, 0.6, 0.3, 0.5, 0.5, 0.6, 0.5, 0.1, 0.6, 0.5, 0.1, 0.5, 0.3, 0.6, 0.6, 0.1, 0.1, 0.6, 0.1, 0.3, 0.6, 0.5, 0.6, 0.1, 0.1, 0.3, 0.1, 0.6, 0.3, 0.6, 0.1, 0.5, 0.3, 0.5, 0.3, 0.3, 0.3, 0.1]' has dtype incompatible with int64, please explicitly cast to a compatible dtype first.\n",
      "  OA_PSO.iloc[:, 4] = [inertia_weight[i-1] for i in OA_PSO.iloc[:, 4]]\n"
     ]
    }
   ],
   "source": [
    "OA_PSO.iloc[:, 0] = [num_particles[i-1] for i in OA_PSO.iloc[:, 0]]\n",
    "OA_PSO.iloc[:, 1] = [max_iterations[i-1] for i in OA_PSO.iloc[:, 1]]\n",
    "OA_PSO.iloc[:, 2] = [inertia_weight[i-1] for i in OA_PSO.iloc[:, 2]]\n",
    "OA_PSO.iloc[:, 3] = [inertia_weight[i-1] for i in OA_PSO.iloc[:, 3]]\n",
    "OA_PSO.iloc[:, 4] = [inertia_weight[i-1] for i in OA_PSO.iloc[:, 4]]"
   ]
  },
  {
   "cell_type": "code",
   "execution_count": 95,
   "metadata": {},
   "outputs": [
    {
     "data": {
      "text/html": [
       "<div>\n",
       "<style scoped>\n",
       "    .dataframe tbody tr th:only-of-type {\n",
       "        vertical-align: middle;\n",
       "    }\n",
       "\n",
       "    .dataframe tbody tr th {\n",
       "        vertical-align: top;\n",
       "    }\n",
       "\n",
       "    .dataframe thead th {\n",
       "        text-align: right;\n",
       "    }\n",
       "</style>\n",
       "<table border=\"1\" class=\"dataframe\">\n",
       "  <thead>\n",
       "    <tr style=\"text-align: right;\">\n",
       "      <th></th>\n",
       "      <th>A</th>\n",
       "      <th>B</th>\n",
       "      <th>C</th>\n",
       "      <th>D</th>\n",
       "      <th>E</th>\n",
       "    </tr>\n",
       "  </thead>\n",
       "  <tbody>\n",
       "    <tr>\n",
       "      <th>0</th>\n",
       "      <td>20</td>\n",
       "      <td>70</td>\n",
       "      <td>0.5</td>\n",
       "      <td>0.5</td>\n",
       "      <td>0.5</td>\n",
       "    </tr>\n",
       "    <tr>\n",
       "      <th>1</th>\n",
       "      <td>20</td>\n",
       "      <td>70</td>\n",
       "      <td>0.5</td>\n",
       "      <td>0.5</td>\n",
       "      <td>0.5</td>\n",
       "    </tr>\n",
       "    <tr>\n",
       "      <th>2</th>\n",
       "      <td>70</td>\n",
       "      <td>70</td>\n",
       "      <td>0.1</td>\n",
       "      <td>0.3</td>\n",
       "      <td>0.6</td>\n",
       "    </tr>\n",
       "    <tr>\n",
       "      <th>3</th>\n",
       "      <td>100</td>\n",
       "      <td>50</td>\n",
       "      <td>0.5</td>\n",
       "      <td>0.1</td>\n",
       "      <td>0.6</td>\n",
       "    </tr>\n",
       "    <tr>\n",
       "      <th>4</th>\n",
       "      <td>70</td>\n",
       "      <td>50</td>\n",
       "      <td>0.6</td>\n",
       "      <td>0.5</td>\n",
       "      <td>0.1</td>\n",
       "    </tr>\n",
       "    <tr>\n",
       "      <th>...</th>\n",
       "      <td>...</td>\n",
       "      <td>...</td>\n",
       "      <td>...</td>\n",
       "      <td>...</td>\n",
       "      <td>...</td>\n",
       "    </tr>\n",
       "    <tr>\n",
       "      <th>75</th>\n",
       "      <td>50</td>\n",
       "      <td>50</td>\n",
       "      <td>0.1</td>\n",
       "      <td>0.6</td>\n",
       "      <td>0.5</td>\n",
       "    </tr>\n",
       "    <tr>\n",
       "      <th>76</th>\n",
       "      <td>50</td>\n",
       "      <td>70</td>\n",
       "      <td>0.6</td>\n",
       "      <td>0.1</td>\n",
       "      <td>0.3</td>\n",
       "    </tr>\n",
       "    <tr>\n",
       "      <th>77</th>\n",
       "      <td>100</td>\n",
       "      <td>100</td>\n",
       "      <td>0.1</td>\n",
       "      <td>0.5</td>\n",
       "      <td>0.3</td>\n",
       "    </tr>\n",
       "    <tr>\n",
       "      <th>78</th>\n",
       "      <td>100</td>\n",
       "      <td>100</td>\n",
       "      <td>0.1</td>\n",
       "      <td>0.5</td>\n",
       "      <td>0.3</td>\n",
       "    </tr>\n",
       "    <tr>\n",
       "      <th>79</th>\n",
       "      <td>100</td>\n",
       "      <td>70</td>\n",
       "      <td>0.3</td>\n",
       "      <td>0.6</td>\n",
       "      <td>0.1</td>\n",
       "    </tr>\n",
       "  </tbody>\n",
       "</table>\n",
       "<p>80 rows × 5 columns</p>\n",
       "</div>"
      ],
      "text/plain": [
       "      A    B    C    D    E\n",
       "0    20   70  0.5  0.5  0.5\n",
       "1    20   70  0.5  0.5  0.5\n",
       "2    70   70  0.1  0.3  0.6\n",
       "3   100   50  0.5  0.1  0.6\n",
       "4    70   50  0.6  0.5  0.1\n",
       "..  ...  ...  ...  ...  ...\n",
       "75   50   50  0.1  0.6  0.5\n",
       "76   50   70  0.6  0.1  0.3\n",
       "77  100  100  0.1  0.5  0.3\n",
       "78  100  100  0.1  0.5  0.3\n",
       "79  100   70  0.3  0.6  0.1\n",
       "\n",
       "[80 rows x 5 columns]"
      ]
     },
     "execution_count": 95,
     "metadata": {},
     "output_type": "execute_result"
    }
   ],
   "source": [
    "OA_PSO"
   ]
  },
  {
   "cell_type": "code",
   "execution_count": 97,
   "metadata": {},
   "outputs": [],
   "source": [
    "ResponsePSO = []\n",
    "for i in range(ResponsePSO.shape[0]):\n",
    "    num_particles, max_iterations, inertia_weight, personal_weight, global_weight = OA_PSO.iloc[i, :]\n",
    "    ResponsePSO.append(particle_swarm_optimization(int(num_particles), int(max_iterations), inertia_weight, \\\n",
    "        personal_weight, global_weight, 0, 1,\\\n",
    "    indexOrderedProduct, solution, CostMatrix, Fixed_costs_matrix, Supplies, Demands)[0])"
   ]
  },
  {
   "cell_type": "code",
   "execution_count": 100,
   "metadata": {},
   "outputs": [],
   "source": [
    "FinalResponsePSO = (ResponsePSO + OA_PSO.iloc[:,0]*\\\n",
    "    OA_EPO.iloc[:,1])/np.array((ResponsePSO + OA_PSO.iloc[:,0]*OA_PSO.iloc[:,1])).sum()"
   ]
  },
  {
   "cell_type": "code",
   "execution_count": 105,
   "metadata": {},
   "outputs": [
    {
     "data": {
      "text/plain": [
       "0     0.011891\n",
       "1     0.011891\n",
       "2     0.012856\n",
       "3     0.012884\n",
       "4     0.012470\n",
       "        ...   \n",
       "75    0.012194\n",
       "76    0.012470\n",
       "77    0.014262\n",
       "78    0.014262\n",
       "79    0.013435\n",
       "Length: 80, dtype: float64"
      ]
     },
     "execution_count": 105,
     "metadata": {},
     "output_type": "execute_result"
    }
   ],
   "source": [
    "FinalResponseEPO"
   ]
  },
  {
   "cell_type": "code",
   "execution_count": 108,
   "metadata": {},
   "outputs": [],
   "source": [
    "FinalResponseAll = pd.DataFrame([FinalResponseEPO, FinalResponsePSO]).T"
   ]
  },
  {
   "cell_type": "code",
   "execution_count": 111,
   "metadata": {},
   "outputs": [],
   "source": [
    "FinalResponseAll.columns = ['EPO', 'PSO']"
   ]
  },
  {
   "cell_type": "code",
   "execution_count": 118,
   "metadata": {},
   "outputs": [],
   "source": [
    "EPO_Response = pd.concat([OA_EPO, FinalResponseAll['EPO']], axis=1)"
   ]
  },
  {
   "cell_type": "code",
   "execution_count": 120,
   "metadata": {},
   "outputs": [],
   "source": [
    "PSO_Response = pd.concat([OA_PSO, FinalResponseAll['PSO']], axis=1)"
   ]
  },
  {
   "cell_type": "code",
   "execution_count": 122,
   "metadata": {},
   "outputs": [],
   "source": [
    "EPO_Response.to_csv('EPO_Response.csv')\n",
    "PSO_Response.to_csv('PSO_Response.csv')"
   ]
  },
  {
   "cell_type": "code",
   "execution_count": 1,
   "metadata": {},
   "outputs": [
    {
     "name": "stderr",
     "output_type": "stream",
     "text": [
      "/var/folders/yf/72lbbhdn3j3crwb44hs0zmmh0000gp/T/ipykernel_2261/4080736814.py:1: DeprecationWarning: \n",
      "Pyarrow will become a required dependency of pandas in the next major release of pandas (pandas 3.0),\n",
      "(to allow more performant data types, such as the Arrow string type, and better interoperability with other libraries)\n",
      "but was not found to be installed on your system.\n",
      "If this would cause problems for you,\n",
      "please provide us feedback at https://github.com/pandas-dev/pandas/issues/54466\n",
      "        \n",
      "  import pandas as pd\n"
     ]
    }
   ],
   "source": [
    "import pandas as pd"
   ]
  },
  {
   "cell_type": "code",
   "execution_count": 4,
   "metadata": {},
   "outputs": [],
   "source": [
    "EPOResponse = pd.read_csv(\"EPO_Response.csv\").iloc[:, 1:]"
   ]
  },
  {
   "cell_type": "code",
   "execution_count": 36,
   "metadata": {},
   "outputs": [],
   "source": [
    "EPOResponse.columns = ['MaxItr', 'PopSize', 'Radius', 'EPO']"
   ]
  },
  {
   "cell_type": "code",
   "execution_count": 58,
   "metadata": {},
   "outputs": [],
   "source": [
    "Params = {}\n",
    "Response = {}\n",
    "for i in EPOResponse:\n",
    "    if i != 'EPO':\n",
    "        Params[i] = []\n",
    "        Response[i] = []\n",
    "        for j in EPOResponse[i]:\n",
    "            if j not in Params[i]:\n",
    "                Params[i].append(j)\n",
    "                Response[i].append(10 * np.log(EPOResponse[EPOResponse[i] == j].iloc[:,-1].mean()**2/\\\n",
    "                                EPOResponse[EPOResponse[i] == j].iloc[:,-1].std()**2))\n",
    "    "
   ]
  },
  {
   "cell_type": "code",
   "execution_count": 62,
   "metadata": {},
   "outputs": [],
   "source": [
    "import matplotlib.pyplot as plt"
   ]
  },
  {
   "cell_type": "code",
   "execution_count": 77,
   "metadata": {},
   "outputs": [
    {
     "data": {
      "image/png": "[encoded data removed]",
      "text/plain": [
       "<Figure size 800x200 with 3 Axes>"
      ]
     },
     "metadata": {},
     "output_type": "display_data"
    }
   ],
   "source": [
    "plt.figure(figsize=(8, 2))\n",
    "k = 1\n",
    "for i in Params:\n",
    "    plt.subplot(1, 3, k)\n",
    "    plt.plot([str(j) for j in Params[i]], Response[i], '-o')\n",
    "    plt.xlabel(i)\n",
    "    plt.tight_layout()\n",
    "    k +=1\n"
   ]
  },
  {
   "cell_type": "code",
   "execution_count": 78,
   "metadata": {},
   "outputs": [],
   "source": [
    "PSOResponse = pd.read_csv(\"PSO_Response.csv\").iloc[:, 1:]"
   ]
  },
  {
   "cell_type": "code",
   "execution_count": 80,
   "metadata": {},
   "outputs": [],
   "source": [
    "PSOResponse.columns = ['MaxItr', 'PopSize', 'Inertia weight', 'Personal weight', 'Global weight', 'PSO']"
   ]
  },
  {
   "cell_type": "code",
   "execution_count": 81,
   "metadata": {},
   "outputs": [],
   "source": [
    "Params = {}\n",
    "Response = {}\n",
    "for i in PSOResponse:\n",
    "    if i != 'PSO':\n",
    "        Params[i] = []\n",
    "        Response[i] = []\n",
    "        for j in PSOResponse[i]:\n",
    "            if j not in Params[i]:\n",
    "                Params[i].append(j)\n",
    "                Response[i].append(10 * np.log(PSOResponse[PSOResponse[i] == j].iloc[:,-1].mean()**2/\\\n",
    "                                PSOResponse[PSOResponse[i] == j].iloc[:,-1].std()**2))"
   ]
  },
  {
   "cell_type": "code",
   "execution_count": 86,
   "metadata": {},
   "outputs": [
    {
     "data": {
      "image/png": "[encoded data removed]",
      "text/plain": [
       "<Figure size 1000x200 with 5 Axes>"
      ]
     },
     "metadata": {},
     "output_type": "display_data"
    }
   ],
   "source": [
    "plt.figure(figsize=(10, 2))\n",
    "k = 1\n",
    "for i in Params:\n",
    "    plt.subplot(1, 5, k)\n",
    "    plt.plot([str(j) for j in Params[i]], Response[i], '-o')\n",
    "    plt.xlabel(i)\n",
    "    plt.tight_layout()\n",
    "    k +=1"
   ]
  }
 ],
 "metadata": {
  "kernelspec": {
   "display_name": "Python 3",
   "language": "python",
   "name": "python3"
  },
  "language_info": {
   "codemirror_mode": {
    "name": "ipython",
    "version": 3
   },
   "file_extension": ".py",
   "mimetype": "text/x-python",
   "name": "python",
   "nbconvert_exporter": "python",
   "pygments_lexer": "ipython3",
   "version": "3.12.1"
  },
  "orig_nbformat": 4
 },
 "nbformat": 4,
 "nbformat_minor": 2
}
